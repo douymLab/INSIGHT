{
 "cells": [
  {
   "cell_type": "code",
   "execution_count": 1,
   "metadata": {},
   "outputs": [],
   "source": [
    "from in_sight.utils import get_flanking_sequences\n",
    "from in_sight.reads_manager import create_combined_read_manager, determine_file_type\n",
    "from in_sight.import_files import STRRegion, SNPInfo\n",
    "from in_sight.meta_info import MetaInfo\n",
    "from in_sight.analysis.hmm_model import StrReads\n",
    "from in_sight.add_attr_info import (\n",
    "    str_data_processor,\n",
    "    hsnp_processor,\n",
    "    classify_allelic_reads_processor\n",
    ")"
   ]
  },
  {
   "cell_type": "code",
   "execution_count": 2,
   "metadata": {},
   "outputs": [],
   "source": [
    "bam_path = '/mnt/h/showStr/data/bam/Human_STR_1422184.cram'\n",
    "chrom = '8'\n",
    "regions = [(70094306, 70094339, \"STR\")]\n",
    "reference_fasta = '/mnt/h/showStr/data/ref/human_g1k_v37_decoy.fasta'"
   ]
  },
  {
   "cell_type": "code",
   "execution_count": 4,
   "metadata": {},
   "outputs": [],
   "source": [
    "# Create and configure manager\n",
    "manager = create_combined_read_manager(\n",
    "    bam_path,\n",
    "    chrom,\n",
    "    regions,\n",
    "    reference_fasta\n",
    ")"
   ]
  },
  {
   "cell_type": "code",
   "execution_count": 5,
   "metadata": {},
   "outputs": [],
   "source": [
    "# Add processors\n",
    "manager.clear_processors()\n",
    "manager.process_reads()"
   ]
  },
  {
   "cell_type": "code",
   "execution_count": 6,
   "metadata": {},
   "outputs": [],
   "source": [
    "# Generate dataframes with debug info\n",
    "read_df, base_df = manager.generate_dataframes()\n",
    "y_level_df = manager.generate_y_level_dataframe()"
   ]
  },
  {
   "cell_type": "code",
   "execution_count": null,
   "metadata": {},
   "outputs": [],
   "source": []
  }
 ],
 "metadata": {
  "kernelspec": {
   "display_name": "in-sight-R_87aGX4-py3.10",
   "language": "python",
   "name": "python3"
  },
  "language_info": {
   "codemirror_mode": {
    "name": "ipython",
    "version": 3
   },
   "file_extension": ".py",
   "mimetype": "text/x-python",
   "name": "python",
   "nbconvert_exporter": "python",
   "pygments_lexer": "ipython3",
   "version": "3.10.12"
  }
 },
 "nbformat": 4,
 "nbformat_minor": 2
}
